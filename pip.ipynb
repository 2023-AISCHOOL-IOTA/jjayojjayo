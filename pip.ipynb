{
 "cells": [
  {
   "cell_type": "code",
   "execution_count": 1,
   "id": "e9539f17",
   "metadata": {},
   "outputs": [
    {
     "name": "stdout",
     "output_type": "stream",
     "text": [
      "Requirement already satisfied: transformers in c:\\users\\kbh27\\anaconda3\\lib\\site-packages (4.32.1)\n",
      "Requirement already satisfied: filelock in c:\\users\\kbh27\\anaconda3\\lib\\site-packages (from transformers) (3.9.0)\n",
      "Requirement already satisfied: huggingface-hub<1.0,>=0.15.1 in c:\\users\\kbh27\\anaconda3\\lib\\site-packages (from transformers) (0.15.1)\n",
      "Requirement already satisfied: numpy>=1.17 in c:\\users\\kbh27\\anaconda3\\lib\\site-packages (from transformers) (1.24.3)\n",
      "Requirement already satisfied: packaging>=20.0 in c:\\users\\kbh27\\anaconda3\\lib\\site-packages (from transformers) (23.1)\n",
      "Requirement already satisfied: pyyaml>=5.1 in c:\\users\\kbh27\\anaconda3\\lib\\site-packages (from transformers) (6.0)\n",
      "Requirement already satisfied: regex!=2019.12.17 in c:\\users\\kbh27\\anaconda3\\lib\\site-packages (from transformers) (2022.7.9)\n",
      "Requirement already satisfied: requests in c:\\users\\kbh27\\anaconda3\\lib\\site-packages (from transformers) (2.31.0)\n",
      "Requirement already satisfied: tokenizers!=0.11.3,<0.14,>=0.11.1 in c:\\users\\kbh27\\anaconda3\\lib\\site-packages (from transformers) (0.13.2)\n",
      "Requirement already satisfied: safetensors>=0.3.1 in c:\\users\\kbh27\\anaconda3\\lib\\site-packages (from transformers) (0.3.2)\n",
      "Requirement already satisfied: tqdm>=4.27 in c:\\users\\kbh27\\anaconda3\\lib\\site-packages (from transformers) (4.65.0)\n",
      "Requirement already satisfied: fsspec in c:\\users\\kbh27\\anaconda3\\lib\\site-packages (from huggingface-hub<1.0,>=0.15.1->transformers) (2023.4.0)\n",
      "Requirement already satisfied: typing-extensions>=3.7.4.3 in c:\\users\\kbh27\\anaconda3\\lib\\site-packages (from huggingface-hub<1.0,>=0.15.1->transformers) (4.7.1)\n",
      "Requirement already satisfied: colorama in c:\\users\\kbh27\\anaconda3\\lib\\site-packages (from tqdm>=4.27->transformers) (0.4.6)\n",
      "Requirement already satisfied: charset-normalizer<4,>=2 in c:\\users\\kbh27\\anaconda3\\lib\\site-packages (from requests->transformers) (2.0.4)\n",
      "Requirement already satisfied: idna<4,>=2.5 in c:\\users\\kbh27\\anaconda3\\lib\\site-packages (from requests->transformers) (3.4)\n",
      "Requirement already satisfied: urllib3<3,>=1.21.1 in c:\\users\\kbh27\\anaconda3\\lib\\site-packages (from requests->transformers) (1.26.16)\n",
      "Requirement already satisfied: certifi>=2017.4.17 in c:\\users\\kbh27\\anaconda3\\lib\\site-packages (from requests->transformers) (2023.7.22)\n",
      "Requirement already satisfied: pipeline in c:\\users\\kbh27\\anaconda3\\lib\\site-packages (0.1.0)\n",
      "Requirement already satisfied: flask-socketio in c:\\users\\kbh27\\anaconda3\\lib\\site-packages (5.3.6)\n",
      "Requirement already satisfied: Flask>=0.9 in c:\\users\\kbh27\\anaconda3\\lib\\site-packages (from flask-socketio) (2.2.2)\n",
      "Requirement already satisfied: python-socketio>=5.0.2 in c:\\users\\kbh27\\anaconda3\\lib\\site-packages (from flask-socketio) (5.10.0)\n",
      "Requirement already satisfied: Werkzeug>=2.2.2 in c:\\users\\kbh27\\anaconda3\\lib\\site-packages (from Flask>=0.9->flask-socketio) (2.2.3)\n",
      "Requirement already satisfied: Jinja2>=3.0 in c:\\users\\kbh27\\anaconda3\\lib\\site-packages (from Flask>=0.9->flask-socketio) (3.1.2)\n",
      "Requirement already satisfied: itsdangerous>=2.0 in c:\\users\\kbh27\\anaconda3\\lib\\site-packages (from Flask>=0.9->flask-socketio) (2.0.1)\n",
      "Requirement already satisfied: click>=8.0 in c:\\users\\kbh27\\anaconda3\\lib\\site-packages (from Flask>=0.9->flask-socketio) (8.0.4)\n",
      "Requirement already satisfied: bidict>=0.21.0 in c:\\users\\kbh27\\anaconda3\\lib\\site-packages (from python-socketio>=5.0.2->flask-socketio) (0.22.1)\n",
      "Requirement already satisfied: python-engineio>=4.8.0 in c:\\users\\kbh27\\anaconda3\\lib\\site-packages (from python-socketio>=5.0.2->flask-socketio) (4.8.0)\n",
      "Requirement already satisfied: colorama in c:\\users\\kbh27\\anaconda3\\lib\\site-packages (from click>=8.0->Flask>=0.9->flask-socketio) (0.4.6)\n",
      "Requirement already satisfied: MarkupSafe>=2.0 in c:\\users\\kbh27\\anaconda3\\lib\\site-packages (from Jinja2>=3.0->Flask>=0.9->flask-socketio) (2.1.1)\n",
      "Requirement already satisfied: simple-websocket>=0.10.0 in c:\\users\\kbh27\\anaconda3\\lib\\site-packages (from python-engineio>=4.8.0->python-socketio>=5.0.2->flask-socketio) (1.0.0)\n",
      "Requirement already satisfied: wsproto in c:\\users\\kbh27\\anaconda3\\lib\\site-packages (from simple-websocket>=0.10.0->python-engineio>=4.8.0->python-socketio>=5.0.2->flask-socketio) (1.2.0)\n",
      "Requirement already satisfied: h11<1,>=0.9.0 in c:\\users\\kbh27\\anaconda3\\lib\\site-packages (from wsproto->simple-websocket>=0.10.0->python-engineio>=4.8.0->python-socketio>=5.0.2->flask-socketio) (0.14.0)\n",
      "Requirement already satisfied: Flask in c:\\users\\kbh27\\anaconda3\\lib\\site-packages (2.2.2)\n",
      "Requirement already satisfied: Werkzeug>=2.2.2 in c:\\users\\kbh27\\anaconda3\\lib\\site-packages (from Flask) (2.2.3)\n",
      "Requirement already satisfied: Jinja2>=3.0 in c:\\users\\kbh27\\anaconda3\\lib\\site-packages (from Flask) (3.1.2)\n",
      "Requirement already satisfied: itsdangerous>=2.0 in c:\\users\\kbh27\\anaconda3\\lib\\site-packages (from Flask) (2.0.1)\n",
      "Requirement already satisfied: click>=8.0 in c:\\users\\kbh27\\anaconda3\\lib\\site-packages (from Flask) (8.0.4)\n",
      "Requirement already satisfied: colorama in c:\\users\\kbh27\\anaconda3\\lib\\site-packages (from click>=8.0->Flask) (0.4.6)\n",
      "Requirement already satisfied: MarkupSafe>=2.0 in c:\\users\\kbh27\\anaconda3\\lib\\site-packages (from Jinja2>=3.0->Flask) (2.1.1)\n"
     ]
    },
    {
     "name": "stderr",
     "output_type": "stream",
     "text": [
      "ERROR: Could not find a version that satisfies the requirement request (from versions: none)\n",
      "ERROR: No matching distribution found for request\n"
     ]
    },
    {
     "name": "stdout",
     "output_type": "stream",
     "text": [
      "Requirement already satisfied: flask_cors in c:\\users\\kbh27\\anaconda3\\lib\\site-packages (4.0.0)\n",
      "Requirement already satisfied: Flask>=0.9 in c:\\users\\kbh27\\anaconda3\\lib\\site-packages (from flask_cors) (2.2.2)\n",
      "Requirement already satisfied: Werkzeug>=2.2.2 in c:\\users\\kbh27\\anaconda3\\lib\\site-packages (from Flask>=0.9->flask_cors) (2.2.3)\n",
      "Requirement already satisfied: Jinja2>=3.0 in c:\\users\\kbh27\\anaconda3\\lib\\site-packages (from Flask>=0.9->flask_cors) (3.1.2)\n",
      "Requirement already satisfied: itsdangerous>=2.0 in c:\\users\\kbh27\\anaconda3\\lib\\site-packages (from Flask>=0.9->flask_cors) (2.0.1)\n",
      "Requirement already satisfied: click>=8.0 in c:\\users\\kbh27\\anaconda3\\lib\\site-packages (from Flask>=0.9->flask_cors) (8.0.4)\n",
      "Requirement already satisfied: colorama in c:\\users\\kbh27\\anaconda3\\lib\\site-packages (from click>=8.0->Flask>=0.9->flask_cors) (0.4.6)\n",
      "Requirement already satisfied: MarkupSafe>=2.0 in c:\\users\\kbh27\\anaconda3\\lib\\site-packages (from Jinja2>=3.0->Flask>=0.9->flask_cors) (2.1.1)\n",
      "Collecting pyngrok\n",
      "  Downloading pyngrok-7.0.1.tar.gz (731 kB)\n",
      "     ---------------------------------------- 0.0/731.8 kB ? eta -:--:--\n",
      "      --------------------------------------- 10.2/731.8 kB ? eta -:--:--\n",
      "     -- ---------------------------------- 41.0/731.8 kB 393.8 kB/s eta 0:00:02\n",
      "     ---------- --------------------------- 194.6/731.8 kB 1.5 MB/s eta 0:00:01\n",
      "     ------------------------------------ - 696.3/731.8 kB 4.0 MB/s eta 0:00:01\n",
      "     -------------------------------------- 731.8/731.8 kB 3.8 MB/s eta 0:00:00\n",
      "  Preparing metadata (setup.py): started\n",
      "  Preparing metadata (setup.py): finished with status 'done'\n",
      "Requirement already satisfied: PyYAML in c:\\users\\kbh27\\anaconda3\\lib\\site-packages (from pyngrok) (6.0)\n",
      "Building wheels for collected packages: pyngrok\n",
      "  Building wheel for pyngrok (setup.py): started\n",
      "  Building wheel for pyngrok (setup.py): finished with status 'done'\n",
      "  Created wheel for pyngrok: filename=pyngrok-7.0.1-py3-none-any.whl size=21156 sha256=a46eba3fcb56651cd1126e83e4592ae05ba16a8059f9b42e100d5460a529a89c\n",
      "  Stored in directory: c:\\users\\kbh27\\appdata\\local\\pip\\cache\\wheels\\d6\\dc\\9e\\e9bf98d10b60771a395e8a3e6c697ccad5eda5f932687264ac\n",
      "Successfully built pyngrok\n",
      "Installing collected packages: pyngrok\n",
      "Successfully installed pyngrok-7.0.1\n",
      "Collecting pymysql\n",
      "  Obtaining dependency information for pymysql from https://files.pythonhosted.org/packages/e5/30/20467e39523d0cfc2b6227902d3687a16364307260c75e6a1cb4422b0c62/PyMySQL-1.1.0-py3-none-any.whl.metadata\n",
      "  Downloading PyMySQL-1.1.0-py3-none-any.whl.metadata (4.4 kB)\n",
      "Downloading PyMySQL-1.1.0-py3-none-any.whl (44 kB)\n",
      "   ---------------------------------------- 0.0/44.8 kB ? eta -:--:--\n",
      "   --------- ------------------------------ 10.2/44.8 kB ? eta -:--:--\n",
      "   --------------------------- ------------ 30.7/44.8 kB 325.1 kB/s eta 0:00:01\n",
      "   ---------------------------------------- 44.8/44.8 kB 442.7 kB/s eta 0:00:00\n",
      "Installing collected packages: pymysql\n",
      "Successfully installed pymysql-1.1.0\n"
     ]
    }
   ],
   "source": [
    "!pip install transformers\n",
    "\n",
    "!pip install pipeline\n",
    "\n",
    "!pip install flask-socketio\n",
    "\n",
    "!pip install Flask\n",
    "\n",
    "!pip install requests\n",
    "\n",
    "!pip install flask_cors\n",
    "\n",
    "!pip install pyngrok\n",
    "\n",
    "!pip install pymysql"
   ]
  }
 ],
 "metadata": {
  "kernelspec": {
   "display_name": "Python 3 (ipykernel)",
   "language": "python",
   "name": "python3"
  },
  "language_info": {
   "codemirror_mode": {
    "name": "ipython",
    "version": 3
   },
   "file_extension": ".py",
   "mimetype": "text/x-python",
   "name": "python",
   "nbconvert_exporter": "python",
   "pygments_lexer": "ipython3",
   "version": "3.10.9"
  }
 },
 "nbformat": 4,
 "nbformat_minor": 5
}
