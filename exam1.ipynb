{
 "cells": [
  {
   "cell_type": "code",
   "execution_count": 6,
   "id": "ba7a385d",
   "metadata": {},
   "outputs": [],
   "source": [
    "import torch\n",
    "\n",
    "from transformers import AutoModelForSequenceClassification,AutoTokenizer"
   ]
  },
  {
   "cell_type": "code",
   "execution_count": 7,
   "id": "3a01e0f4",
   "metadata": {
    "scrolled": true
   },
   "outputs": [],
   "source": [
    "# MODEL_NAME = 'beomi/KcELECTRA-base'\n",
    "MODEL_NAME = 'beomi/KcELECTRA-base-v2022'\n",
    "\n",
    "tokenizer = AutoTokenizer.from_pretrained(MODEL_NAME)"
   ]
  },
  {
   "cell_type": "code",
   "execution_count": 10,
   "id": "69b25d09",
   "metadata": {},
   "outputs": [],
   "source": [
    "#model = AutoModelForSequenceClassification.from_pretrained(\"kcmodel.pt/\")\n",
    "model = AutoModelForSequenceClassification.from_pretrained(\"kcelectra1_5.pt/\")"
   ]
  },
  {
   "cell_type": "code",
   "execution_count": 11,
   "id": "b4415d7f",
   "metadata": {},
   "outputs": [],
   "source": [
    "def sentence_predict(sent):\n",
    "  # 평가모드로 변경\n",
    "  model.eval()\n",
    "\n",
    "  # 입력된 문장 토크나이징\n",
    "  tokenized_sent = tokenizer(\n",
    "      sent,\n",
    "      return_tensors = 'pt',\n",
    "      truncation = True,\n",
    "      add_special_tokens = True,\n",
    "      max_length = 128\n",
    "  )\n",
    "\n",
    "  # 예측\n",
    "  with torch.no_grad():\n",
    "    outputs = model(\n",
    "        input_ids = tokenized_sent['input_ids'],\n",
    "        attention_mask = tokenized_sent['attention_mask'],\n",
    "        token_type_ids = tokenized_sent['token_type_ids']\n",
    "        )\n",
    "\n",
    "  # 결과 return\n",
    "  logits = outputs[0]\n",
    "  logits = logits.detach().cpu()\n",
    "  result = logits.argmax(-1).item()\n",
    "  result_text = sent\n",
    "\n",
    "#    if result == 0:\n",
    "#      result = f'{result_text} >> 악성댓글 😈'\n",
    "#    elif result == 1:\n",
    "#      result = f'{result_text} >> 정상댓글 😊'\n",
    "\n",
    "  return result"
   ]
  }
 ],
 "metadata": {
  "kernelspec": {
   "display_name": "Python 3 (ipykernel)",
   "language": "python",
   "name": "python3"
  },
  "language_info": {
   "codemirror_mode": {
    "name": "ipython",
    "version": 3
   },
   "file_extension": ".py",
   "mimetype": "text/x-python",
   "name": "python",
   "nbconvert_exporter": "python",
   "pygments_lexer": "ipython3",
   "version": "3.11.5"
  }
 },
 "nbformat": 4,
 "nbformat_minor": 5
}
