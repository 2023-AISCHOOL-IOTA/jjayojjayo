{
 "cells": [
  {
   "cell_type": "code",
   "execution_count": 1,
   "id": "22cc9006",
   "metadata": {},
   "outputs": [],
   "source": [
    "import torch\n",
    "\n",
    "from transformers import BartForConditionalGeneration, BartTokenizer\n",
    "from transformers import PreTrainedTokenizerFast, BartForConditionalGeneration, Seq2SeqTrainingArguments, Seq2SeqTrainer"
   ]
  },
  {
   "cell_type": "code",
   "execution_count": 2,
   "id": "f238a52f",
   "metadata": {
    "scrolled": true
   },
   "outputs": [
    {
     "name": "stderr",
     "output_type": "stream",
     "text": [
      "You passed along `num_labels=3` with an incompatible id to label map: {'0': 'NEGATIVE', '1': 'POSITIVE'}. The number of labels wil be overwritten to 2.\n"
     ]
    }
   ],
   "source": [
    "model = BartForConditionalGeneration.from_pretrained(\"komodel2_3.pt/\")"
   ]
  },
  {
   "cell_type": "code",
   "execution_count": 3,
   "id": "6c9509f0",
   "metadata": {},
   "outputs": [],
   "source": [
    "tokenizer = PreTrainedTokenizerFast.from_pretrained('hyunwoongko/kobart')"
   ]
  },
  {
   "cell_type": "code",
   "execution_count": 4,
   "id": "41cefd3a",
   "metadata": {},
   "outputs": [],
   "source": [
    "def sentence_predict(sent):\n",
    "\n",
    "    # 입력 문장을 모델이 처리할 수 있는 형태로 토큰화합니다.\n",
    "    inputs = tokenizer(sent, return_tensors=\"pt\", max_length=512, truncation=True, padding=\"max_length\")\n",
    "\n",
    "    # 토큰화된 데이터를 GPU로 옮깁니다(사용 가능한 경우).\n",
    "    if torch.cuda.is_available():\n",
    "        inputs = {key: val.to('cuda') for key, val in inputs.items()}\n",
    "\n",
    "    # 생성(generation)을 수행하여 스타일이 변환된 결과를 얻습니다.\n",
    "    outputs = model.generate(\n",
    "        inputs[\"input_ids\"],\n",
    "        max_length=len(sent)*2,\n",
    "        num_beams=5,\n",
    "        no_repeat_ngram_size=2,\n",
    "        early_stopping=True\n",
    "    )\n",
    "\n",
    "    # 생성된 토큰들을 문장으로 디코딩합니다.\n",
    "    generated_text = tokenizer.decode(outputs[0], skip_special_tokens=True)\n",
    "\n",
    "    # 결과를 출력합니다.\n",
    "    return generated_text"
   ]
  }
 ],
 "metadata": {
  "kernelspec": {
   "display_name": "Python 3 (ipykernel)",
   "language": "python",
   "name": "python3"
  },
  "language_info": {
   "codemirror_mode": {
    "name": "ipython",
    "version": 3
   },
   "file_extension": ".py",
   "mimetype": "text/x-python",
   "name": "python",
   "nbconvert_exporter": "python",
   "pygments_lexer": "ipython3",
   "version": "3.11.5"
  }
 },
 "nbformat": 4,
 "nbformat_minor": 5
}
